{
 "cells": [
  {
   "cell_type": "markdown",
   "id": "d17f0282",
   "metadata": {},
   "source": [
    "# 4 - pySAM run and desired outputs search\n",
    "\n"
   ]
  },
  {
   "cell_type": "code",
   "execution_count": 1,
   "id": "b428daac",
   "metadata": {},
   "outputs": [],
   "source": [
    "import PySAM\n",
    "import PySAM.Pvsamv1 as PV\n",
    "import PySAM.Grid as Grid\n",
    "import PySAM.Utilityrate5 as UtilityRate\n",
    "import PySAM.Cashloan as Cashloan\n",
    "import pathlib, os\n",
    "import json\n",
    "import pvlib\n",
    "import pandas as pd"
   ]
  },
  {
   "cell_type": "code",
   "execution_count": 2,
   "id": "24affbfa",
   "metadata": {},
   "outputs": [
    {
     "name": "stdout",
     "output_type": "stream",
     "text": [
      "Working on a  Windows 10\n",
      "Python version  3.11.7 | packaged by Anaconda, Inc. | (main, Dec 15 2023, 18:05:47) [MSC v.1916 64 bit (AMD64)]\n",
      "Pandas version  2.1.0\n",
      "Pvlib version:  0.10.4.dev9+ge92ee94\n",
      "PySAM version:  5.1.0\n"
     ]
    }
   ],
   "source": [
    "import sys, platform\n",
    "print(\"Working on a \", platform.system(), platform.release())\n",
    "print(\"Python version \", sys.version)\n",
    "print(\"Pandas version \", pd.__version__)\n",
    "print(\"Pvlib version: \", pvlib.__version__)\n",
    "print(\"PySAM version: \", PySAM.__version__)"
   ]
  },
  {
   "cell_type": "code",
   "execution_count": 3,
   "id": "6a8b3959",
   "metadata": {},
   "outputs": [],
   "source": [
    "jsonfolder = 'jsons'\n",
    "\n",
    "jsonnames = ['vertical']\n",
    "\n",
    "file_names = [\"pvsamv1\", \"grid\", \"utilityrate5\", \"cashloan\"]\n",
    "\n",
    "pv4 = PV.new()  # also tried PVWattsSingleOwner\n",
    "grid4 = Grid.from_existing(pv4)\n",
    "ur4 = UtilityRate.from_existing(pv4)\n",
    "so4 = Cashloan.from_existing(grid4, 'FlatPlatePVCommercial')\n"
   ]
  },
  {
   "cell_type": "code",
   "execution_count": 4,
   "id": "5c8bdc8b",
   "metadata": {},
   "outputs": [
    {
     "name": "stdout",
     "output_type": "stream",
     "text": [
      "adjust_constant\n",
      "adjust_en_timeindex\n",
      "adjust_en_periods\n",
      "adjust_timeindex\n",
      "adjust_periods\n",
      "dc_adjust_constant\n",
      "dc_adjust_en_timeindex\n",
      "dc_adjust_en_periods\n",
      "dc_adjust_timeindex\n",
      "dc_adjust_periods\n"
     ]
    }
   ],
   "source": [
    "for count, module in enumerate([pv4, grid4, ur4, so4]):\n",
    "    filetitle= 'vertical' + '_' + file_names[count] + \".json\"\n",
    "    with open(os.path.join(jsonfolder,filetitle), 'r') as file:\n",
    "        data = json.load(file)\n",
    "        for k, v in data.items():\n",
    "            if k == 'number_inputs':\n",
    "                continue\n",
    "            try:\n",
    "                if sys.version.split(' ')[0] == '3.11.7': \n",
    "                    # Check needed for python 3.10.7 and perhaps other releases above 3.10.4.\n",
    "                    # This prevents the failure \"UnicodeDecodeError: 'utf-8' codec can't decode byte... \n",
    "                    # This bug will be fixed on a newer version of pysam (currently not working on 5.1.0)\n",
    "                    if 'adjust_' in k:  # This check is needed for Python 3.10.7 and some others. Not needed for 3.7.4\n",
    "                        print(k)\n",
    "                        k = k.split('adjust_')[1]\n",
    "                module.value(k, v)\n",
    "            except AttributeError:\n",
    "                # there is an error is setting the value for ppa_escalation\n",
    "                print(module, k, v)"
   ]
  },
  {
   "cell_type": "markdown",
   "id": "a6cea702",
   "metadata": {},
   "source": [
    "##### Sanity checks"
   ]
  },
  {
   "cell_type": "code",
   "execution_count": 5,
   "id": "d64dc141",
   "metadata": {},
   "outputs": [
    {
     "data": {
      "text/plain": [
       "'C:/Users/sayala/SAM Downloaded Weather Files/bellingham_washington_48.7525_-122.471_psm3-2-2-tmy_60_tmy.csv'"
      ]
     },
     "execution_count": 5,
     "metadata": {},
     "output_type": "execute_result"
    }
   ],
   "source": [
    "pv4.SolarResource.solar_resource_file"
   ]
  },
  {
   "cell_type": "code",
   "execution_count": 6,
   "id": "4399b134-ce3b-405a-abe8-8e427f5a8074",
   "metadata": {},
   "outputs": [],
   "source": [
    "import _pickle as cPickle\n",
    "\n",
    "with open(r\"df_convert_219559.pkl\", \"rb\") as input_file:\n",
    "    df_weather_gid = cPickle.load(input_file)\n",
    "\n",
    "\n",
    "with open(r\"meta_convert_219559.pkl\", \"rb\") as input_file:\n",
    "    meta_dict = cPickle.load(input_file)"
   ]
  },
  {
   "cell_type": "code",
   "execution_count": 7,
   "id": "c48c502f-8bc2-47c3-90f1-b59048a69f39",
   "metadata": {},
   "outputs": [],
   "source": [
    "# pv4.Losses.en_snow_model = 0 #for snow losses to report.\n",
    "\n",
    "#Need an except if it fails with snow bad snow depth "
   ]
  },
  {
   "cell_type": "code",
   "execution_count": 8,
   "id": "e0e94ac7-4bb8-4e5e-9a52-d9941adfa252",
   "metadata": {},
   "outputs": [],
   "source": [
    "pv4.unassign('solar_resource_file')"
   ]
  },
  {
   "cell_type": "code",
   "execution_count": 9,
   "id": "d74c6ffd-3fb7-4ed6-88e5-397d6e9c60e9",
   "metadata": {},
   "outputs": [],
   "source": [
    "data = {'dn':list(df_weather_gid.dni),\n",
    "       'df':list(df_weather_gid.dhi),\n",
    "        'gh':list(df_weather_gid.ghi),\n",
    "       'tdry':list(df_weather_gid.air_temperature),\n",
    "       'wspd':list(df_weather_gid.wind_speed),\n",
    "       'lat':meta_dict['latitude'],\n",
    "       'lon':meta_dict['longitude'],\n",
    "       'tz':meta_dict['timezone'],\n",
    "       'elev':meta_dict['elevation'],\n",
    "       'year':list(df_weather_gid.index.year),\n",
    "       'month':list(df_weather_gid.index.month),\n",
    "       'day':list(df_weather_gid.index.day),\n",
    "       'hour':list(df_weather_gid.index.hour),\n",
    "       'minute':list(df_weather_gid.index.minute),\n",
    "       'alb':list(df_weather_gid.surface_albedo)}\n",
    "\n",
    "pv4.value('solar_resource_data', data)"
   ]
  },
  {
   "cell_type": "code",
   "execution_count": 10,
   "id": "7118ab79",
   "metadata": {},
   "outputs": [],
   "source": [
    "pv4.execute()\n",
    "grid4.execute()\n",
    "ur4.execute()\n",
    "so4.execute()\n",
    "\n",
    "# SAVE RESULTS|\n",
    "results = pv4.Outputs.export()\n",
    "economicresults = so4.Outputs.export()"
   ]
  },
  {
   "cell_type": "code",
   "execution_count": 11,
   "id": "dc080409-7368-43ad-b856-b2784b2ccdae",
   "metadata": {},
   "outputs": [
    {
     "data": {
      "text/plain": [
       "1598863.0"
      ]
     },
     "execution_count": 11,
     "metadata": {},
     "output_type": "execute_result"
    }
   ],
   "source": [
    "#https://nrel-pysam.readthedocs.io/en/main/modules/Pvsamv1.html#PySAM.Pvsamv1.Pvsamv1.Outputs.annual_gh\n",
    "# SOME THAT MIGHT BE RELEVANT.\n",
    "results['annual_ac_gross']\n",
    "results['annual_energy']\n",
    "results['annual_gh']\n",
    "#results['kwh_per_kw'] # Energy Yield\n",
    "#results['performance_ratio'] # Energy Yield\n",
    "#results['annual_snow_loss']\n",
    "#results['monthly_snow_loss']\n",
    "#results['subarray1_snow_coverage'] # Energy Yield\n",
    "#economicresults['lcoe_nom']"
   ]
  },
  {
   "cell_type": "code",
   "execution_count": 12,
   "id": "0983e06b-de1a-4656-99cc-d85d8f5ba3f9",
   "metadata": {},
   "outputs": [
    {
     "data": {
      "text/plain": [
       "1598863"
      ]
     },
     "execution_count": 12,
     "metadata": {},
     "output_type": "execute_result"
    }
   ],
   "source": [
    "df_weather_gid.ghi.sum()"
   ]
  }
 ],
 "metadata": {
  "kernelspec": {
   "display_name": "Python 3 (ipykernel)",
   "language": "python",
   "name": "python3"
  },
  "language_info": {
   "codemirror_mode": {
    "name": "ipython",
    "version": 3
   },
   "file_extension": ".py",
   "mimetype": "text/x-python",
   "name": "python",
   "nbconvert_exporter": "python",
   "pygments_lexer": "ipython3",
   "version": "3.11.7"
  }
 },
 "nbformat": 4,
 "nbformat_minor": 5
}
