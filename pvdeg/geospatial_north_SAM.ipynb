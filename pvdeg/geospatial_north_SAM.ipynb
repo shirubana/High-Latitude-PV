{
 "cells": [
  {
   "cell_type": "code",
   "execution_count": 1,
   "metadata": {},
   "outputs": [],
   "source": [
    "%load_ext autoreload\n",
    "%autoreload 2\n",
    "\n",
    "import matplotlib.pyplot as plt\n",
    "import numpy as np\n",
    "import pandas as pd\n",
    "import pvdeg\n",
    "import dask.array as da\n",
    "import dask.dataframe as dd\n",
    "import xarray as xr\n",
    "import os\n",
    "import socket\n",
    "import pandas as pd"
   ]
  },
  {
   "cell_type": "code",
   "execution_count": 3,
   "metadata": {},
   "outputs": [
    {
     "name": "stderr",
     "output_type": "stream",
     "text": [
      "/home/sayala/.local/lib/python3.9/site-packages/distributed/node.py:182: UserWarning: Port 8787 is already in use.\n",
      "Perhaps you already have a cluster running?\n",
      "Hosting the HTTP server on port 33235 instead\n",
      "  warnings.warn(\n"
     ]
    },
    {
     "name": "stdout",
     "output_type": "stream",
     "text": [
      "Dashboard: http://127.0.0.1:33235/status\n"
     ]
    }
   ],
   "source": [
    "# Start HPC cluster\n",
    "\n",
    "local = {'manager': 'local',\n",
    "       'n_workers': 5,}\n",
    "\n",
    "kestrel = {\n",
    "    'manager': 'slurm',\n",
    "    'n_jobs': 2,  # Max number of nodes used for parallel processing\n",
    "    'cores': 100,\n",
    "    'processes': 50,\n",
    "    'memory': '256GB',\n",
    "    'account': 'pvfem',\n",
    "    'queue': 'short',\n",
    "    'walltime': '4:00:00',\n",
    "    'scheduler_options':{'host':socket.gethostname()}\n",
    "    }\n",
    "\n",
    "client = pvdeg.geospatial.start_dask(hpc=local)\n"
   ]
  },
  {
   "cell_type": "code",
   "execution_count": 4,
   "metadata": {},
   "outputs": [],
   "source": [
    "work_dir = '/projects/pvsoiling/pvdeg/analysis/world_map/standoff_fine'\n",
    "data_dir = '/projects/pvsoiling/pvdeg/analysis/world_map/data'"
   ]
  },
  {
   "cell_type": "code",
   "execution_count": 5,
   "metadata": {},
   "outputs": [],
   "source": [
    "meta_north = pd.read_csv(f'{data_dir}/meta_pvgis_north_3300.csv',index_col=0)\n",
    "weather_north = xr.open_dataset(f'{data_dir}/weather_ds_north_3300.nc')\n",
    "weather_north = weather_north.sel(gid=meta_north.index)\n",
    "\n",
    "weather_north = weather_north.assign_coords({'gid': meta_north.index})\n",
    "weather_north = weather_north.chunk(chunks={\"time\": -1, \"gid\": 100})\n",
    "weather_north = weather_north.unify_chunks()"
   ]
  },
  {
   "cell_type": "code",
   "execution_count": 9,
   "metadata": {},
   "outputs": [
    {
     "data": {
      "text/plain": [
       "dict"
      ]
     },
     "execution_count": 9,
     "metadata": {},
     "output_type": "execute_result"
    }
   ],
   "source": [
    "jsonfolder = {'jsonfolder':'/home/sayala/jsons'}\n",
    "type(jsonfolder)"
   ]
  },
  {
   "cell_type": "code",
   "execution_count": 10,
   "metadata": {},
   "outputs": [
    {
     "name": "stderr",
     "output_type": "stream",
     "text": [
      "2024-06-26 16:38:30,935 - distributed.worker - WARNING - Compute Failed\n",
      "Key:       ('calc_block-4d72863a0ebd25772578fd2feb2ef910', 16, 0)\n",
      "State:     executing\n",
      "Function:  execute_task\n",
      "args:      ((<function map_blocks.<locals>._wrapper at 0x7f313cf3bd30>, <function calc_block at 0x7f30d0e2eaf0>, [(<class 'xarray.core.dataset.Dataset'>, (<class 'dict'>, [['temp_air', (('gid', 'time'), array([[-17.26, -17.72, -18.17, ..., -15.89, -16.35, -16.8 ],\n",
      "       [-16.36, -16.42, -16.47, ..., -16.2 , -16.26, -16.31],\n",
      "       [-16.51, -16.85, -17.19, ..., -15.5 , -15.83, -16.17],\n",
      "       ...,\n",
      "       [-37.84, -37.23, -36.62, ..., -39.66, -39.05, -38.44],\n",
      "       [-29.31, -26.96, -24.6 , ..., -36.39, -34.03, -31.67],\n",
      "       [-30.33, -27.91, -25.5 , ..., -37.57, -35.15, -32.74]]), {})], ['relative_humidity', (('gid', 'time'), array([[60.9 , 60.5 , 60.11, ..., 62.09, 61.7 , 61.3 ],\n",
      "       [56.49, 56.21, 55.93, ..., 57.34, 57.06, 56.78],\n",
      "       [46.33, 50.3 , 54.28, ..., 34.41, 38.38, 42.35],\n",
      "       ...,\n",
      "       [74.  , 74.61, 75.22, ..., 72.17, 72.78, 73.39],\n",
      "       [71.32, 71.88, 72.43, ..., 69.65, 70.21, 70.76],\n",
      "       [71.48, 72.07, 72.67, ..., 69.69, 70.28, 70.88]]), {})], ['ghi', (('gid', 'ti\n",
      "kwargs:    {}\n",
      "Exception: 'AttributeError(\"\\'Index\\' object has no attribute \\'is_monotonic\\'\")'\n",
      "\n",
      "2024-06-26 16:38:30,955 - distributed.worker - WARNING - Compute Failed\n",
      "Key:       ('calc_block-4d72863a0ebd25772578fd2feb2ef910', 0, 0)\n",
      "State:     executing\n",
      "Function:  execute_task\n",
      "args:      ((<function map_blocks.<locals>._wrapper at 0x7ff4d00d85e0>, <function calc_block at 0x7ff440d43430>, [(<class 'xarray.core.dataset.Dataset'>, (<class 'dict'>, [['temp_air', (('gid', 'time'), array([[ -6.47,  -4.8 ,  -3.13, ..., -11.47,  -9.8 ,  -8.13],\n",
      "       [-23.33, -24.14, -24.95, ..., -20.89, -21.71, -22.52],\n",
      "       [-10.3 ,  -8.37,  -6.44, ..., -16.09, -14.16, -12.23],\n",
      "       ...,\n",
      "       [ -8.07,  -9.18, -10.3 , ...,  -4.74,  -5.85,  -6.96],\n",
      "       [ -9.68, -10.91, -12.14, ...,  -5.99,  -7.22,  -8.45],\n",
      "       [-14.55, -16.62, -18.69, ...,  -8.35, -10.42, -12.49]]), {})], ['relative_humidity', (('gid', 'time'), array([[90.28, 90.96, 91.65, ..., 88.22, 88.9 , 89.59],\n",
      "       [77.9 , 77.09, 76.29, ..., 80.3 , 79.5 , 78.7 ],\n",
      "       [82.27, 82.77, 83.26, ..., 80.79, 81.29, 81.78],\n",
      "       ...,\n",
      "       [84.26, 83.66, 83.06, ..., 86.06, 85.46, 84.86],\n",
      "       [85.54, 84.4 , 83.26, ..., 88.97, 87.82, 86.68],\n",
      "       [85.09, 83.85, 82.62, ..., 88.79, 87.56, 86.32]]), {})], ['ghi', (('gid', 'ti\n",
      "kwargs:    {}\n",
      "Exception: 'AttributeError(\"\\'Index\\' object has no attribute \\'is_monotonic\\'\")'\n",
      "\n",
      "2024-06-26 16:38:30,979 - distributed.worker - WARNING - Compute Failed\n",
      "Key:       ('calc_block-4d72863a0ebd25772578fd2feb2ef910', 3, 0)\n",
      "State:     executing\n",
      "Function:  execute_task\n",
      "args:      ((<function map_blocks.<locals>._wrapper at 0x7f313ce4d040>, <function calc_block at 0x7f30d0e2eaf0>, [(<class 'xarray.core.dataset.Dataset'>, (<class 'dict'>, [['temp_air', (('gid', 'time'), array([[-25.18, -25.36, -25.54, ..., -24.63, -24.81, -25.  ],\n",
      "       [-25.19, -25.61, -26.03, ..., -23.92, -24.34, -24.76],\n",
      "       [-25.02, -25.  , -24.97, ..., -25.1 , -25.07, -25.05],\n",
      "       ...,\n",
      "       [ -4.74,  -3.96,  -3.17, ...,  -7.1 ,  -6.31,  -5.53],\n",
      "       [ -4.22,  -3.47,  -2.72, ...,  -6.46,  -5.71,  -4.97],\n",
      "       [ -5.01,  -4.17,  -3.33, ...,  -7.53,  -6.69,  -5.85]]), {})], ['relative_humidity', (('gid', 'time'), array([[76.99, 77.22, 77.45, ..., 76.3 , 76.53, 76.76],\n",
      "       [75.19, 75.65, 76.11, ..., 73.8 , 74.27, 74.73],\n",
      "       [78.15, 78.26, 78.36, ..., 77.83, 77.94, 78.04],\n",
      "       ...,\n",
      "       [88.31, 87.98, 87.66, ..., 89.27, 88.95, 88.63],\n",
      "       [85.47, 86.01, 86.55, ..., 83.85, 84.39, 84.93],\n",
      "       [86.49, 87.14, 87.79, ..., 84.53, 85.18, 85.84]]), {})], ['ghi', (('gid', 'ti\n",
      "kwargs:    {}\n",
      "Exception: 'AttributeError(\"\\'Index\\' object has no attribute \\'is_monotonic\\'\")'\n",
      "\n",
      "2024-06-26 16:38:31,007 - distributed.worker - WARNING - Compute Failed\n",
      "Key:       ('calc_block-4d72863a0ebd25772578fd2feb2ef910', 27, 0)\n",
      "State:     executing\n",
      "Function:  execute_task\n",
      "args:      ((<function map_blocks.<locals>._wrapper at 0x7ff4c80a0670>, <function calc_block at 0x7ff440d43430>, [(<class 'xarray.core.dataset.Dataset'>, (<class 'dict'>, [['temp_air', (('gid', 'time'), array([[-19.47, -17.85, -16.23, ..., -24.32, -22.71, -21.09],\n",
      "       [-22.21, -20.75, -19.29, ..., -26.59, -25.13, -23.67],\n",
      "       [-16.38, -15.84, -15.29, ..., -18.02, -17.47, -16.93],\n",
      "       ...,\n",
      "       [-33.51, -35.39, -37.27, ..., -27.87, -29.75, -31.63],\n",
      "       [-25.19, -25.58, -25.96, ..., -24.05, -24.43, -24.81],\n",
      "       [-26.69, -27.04, -27.39, ..., -25.64, -25.99, -26.34]]), {})], ['relative_humidity', (('gid', 'time'), array([[58.49, 58.6 , 58.71, ..., 58.16, 58.27, 58.38],\n",
      "       [57.26, 58.23, 59.2 , ..., 54.36, 55.33, 56.3 ],\n",
      "       [80.94, 82.52, 84.09, ..., 76.2 , 77.78, 79.36],\n",
      "       ...,\n",
      "       [67.89, 65.73, 63.56, ..., 74.39, 72.22, 70.06],\n",
      "       [77.23, 77.18, 77.13, ..., 77.39, 77.34, 77.29],\n",
      "       [77.  , 76.96, 76.92, ..., 77.12, 77.08, 77.04]]), {})], ['ghi', (('gid', 'ti\n",
      "kwargs:    {}\n",
      "Exception: 'AttributeError(\"\\'Index\\' object has no attribute \\'is_monotonic\\'\")'\n",
      "\n",
      "2024-06-26 16:38:31,018 - distributed.worker - WARNING - Compute Failed\n",
      "Key:       ('calc_block-4d72863a0ebd25772578fd2feb2ef910', 24, 0)\n",
      "State:     executing\n",
      "Function:  execute_task\n",
      "args:      ((<function map_blocks.<locals>._wrapper at 0x7ff4d0105ca0>, <function calc_block at 0x7ff440d43430>, [(<class 'xarray.core.dataset.Dataset'>, (<class 'dict'>, [['temp_air', (('gid', 'time'), array([[-23.37, -24.4 , -25.43, ..., -20.29, -21.32, -22.34],\n",
      "       [-20.3 , -19.47, -18.64, ..., -22.78, -21.95, -21.12],\n",
      "       [-19.56, -19.69, -19.82, ..., -19.18, -19.31, -19.44],\n",
      "       ...,\n",
      "       [-28.8 , -29.32, -29.84, ..., -27.23, -27.75, -28.28],\n",
      "       [-29.28, -28.28, -27.28, ..., -32.29, -31.29, -30.29],\n",
      "       [-34.33, -34.27, -34.2 , ..., -34.54, -34.47, -34.4 ]]), {})], ['relative_humidity', (('gid', 'time'), array([[74.15, 75.05, 75.95, ..., 71.45, 72.35, 73.25],\n",
      "       [74.82, 74.56, 74.31, ..., 75.59, 75.33, 75.08],\n",
      "       [77.04, 76.1 , 75.15, ..., 79.88, 78.94, 77.99],\n",
      "       ...,\n",
      "       [74.07, 74.16, 74.25, ..., 73.81, 73.9 , 73.99],\n",
      "       [75.27, 75.81, 76.35, ..., 73.65, 74.19, 74.73],\n",
      "       [72.68, 72.44, 72.21, ..., 73.38, 73.15, 72.91]]), {})], ['ghi', (('gid', 'ti\n",
      "kwargs:    {}\n",
      "Exception: 'AttributeError(\"\\'Index\\' object has no attribute \\'is_monotonic\\'\")'\n",
      "\n"
     ]
    },
    {
     "ename": "AttributeError",
     "evalue": "'Index' object has no attribute 'is_monotonic'",
     "output_type": "error",
     "traceback": [
      "\u001b[0;31m---------------------------------------------------------------------------\u001b[0m",
      "\u001b[0;31mAttributeError\u001b[0m                            Traceback (most recent call last)",
      "Cell \u001b[0;32mIn[10], line 6\u001b[0m\n\u001b[1;32m      1\u001b[0m geo \u001b[38;5;241m=\u001b[39m {\u001b[38;5;124m'\u001b[39m\u001b[38;5;124mfunc\u001b[39m\u001b[38;5;124m'\u001b[39m: pvdeg\u001b[38;5;241m.\u001b[39mstandards\u001b[38;5;241m.\u001b[39mvertical_POA,\n\u001b[1;32m      2\u001b[0m        \u001b[38;5;124m'\u001b[39m\u001b[38;5;124mweather_ds\u001b[39m\u001b[38;5;124m'\u001b[39m: weather_north,\n\u001b[1;32m      3\u001b[0m        \u001b[38;5;124m'\u001b[39m\u001b[38;5;124mmeta_df\u001b[39m\u001b[38;5;124m'\u001b[39m: meta_north,\n\u001b[1;32m      4\u001b[0m        \u001b[38;5;124m'\u001b[39m\u001b[38;5;124mfunc_kwargs\u001b[39m\u001b[38;5;124m'\u001b[39m: jsonfolder}\n\u001b[0;32m----> 6\u001b[0m vertical_res \u001b[38;5;241m=\u001b[39m \u001b[43mpvdeg\u001b[49m\u001b[38;5;241;43m.\u001b[39;49m\u001b[43mgeospatial\u001b[49m\u001b[38;5;241;43m.\u001b[39;49m\u001b[43manalysis\u001b[49m\u001b[43m(\u001b[49m\u001b[38;5;241;43m*\u001b[39;49m\u001b[38;5;241;43m*\u001b[39;49m\u001b[43mgeo\u001b[49m\u001b[43m)\u001b[49m\n",
      "File \u001b[0;32m~/.local/lib/python3.9/site-packages/pvdeg/geospatial.py:174\u001b[0m, in \u001b[0;36manalysis\u001b[0;34m(weather_ds, meta_df, func, template, **func_kwargs)\u001b[0m\n\u001b[1;32m    171\u001b[0m \u001b[38;5;66;03m# future_meta_df = client.scatter(meta_df)\u001b[39;00m\n\u001b[1;32m    172\u001b[0m kwargs \u001b[38;5;241m=\u001b[39m {\u001b[38;5;124m\"\u001b[39m\u001b[38;5;124mfunc\u001b[39m\u001b[38;5;124m\"\u001b[39m: func, \u001b[38;5;124m\"\u001b[39m\u001b[38;5;124mfuture_meta_df\u001b[39m\u001b[38;5;124m\"\u001b[39m: meta_df, \u001b[38;5;124m\"\u001b[39m\u001b[38;5;124mfunc_kwargs\u001b[39m\u001b[38;5;124m\"\u001b[39m: func_kwargs}\n\u001b[0;32m--> 174\u001b[0m stacked \u001b[38;5;241m=\u001b[39m \u001b[43mweather_ds\u001b[49m\u001b[38;5;241;43m.\u001b[39;49m\u001b[43mmap_blocks\u001b[49m\u001b[43m(\u001b[49m\n\u001b[1;32m    175\u001b[0m \u001b[43m    \u001b[49m\u001b[43mcalc_block\u001b[49m\u001b[43m,\u001b[49m\u001b[43m \u001b[49m\u001b[43mkwargs\u001b[49m\u001b[38;5;241;43m=\u001b[39;49m\u001b[43mkwargs\u001b[49m\u001b[43m,\u001b[49m\u001b[43m \u001b[49m\u001b[43mtemplate\u001b[49m\u001b[38;5;241;43m=\u001b[39;49m\u001b[43mtemplate\u001b[49m\n\u001b[1;32m    176\u001b[0m \u001b[43m\u001b[49m\u001b[43m)\u001b[49m\u001b[38;5;241;43m.\u001b[39;49m\u001b[43mcompute\u001b[49m\u001b[43m(\u001b[49m\u001b[43m)\u001b[49m\n\u001b[1;32m    178\u001b[0m \u001b[38;5;66;03m# lats = stacked.latitude.values.flatten()\u001b[39;00m\n\u001b[1;32m    179\u001b[0m \u001b[38;5;66;03m# lons = stacked.longitude.values.flatten()\u001b[39;00m\n\u001b[1;32m    180\u001b[0m stacked \u001b[38;5;241m=\u001b[39m stacked\u001b[38;5;241m.\u001b[39mdrop([\u001b[38;5;124m\"\u001b[39m\u001b[38;5;124mgid\u001b[39m\u001b[38;5;124m\"\u001b[39m])\n",
      "File \u001b[0;32m/nopt/nrel/apps/software/conda2022/lib/python3.9/site-packages/xarray/core/dataset.py:1028\u001b[0m, in \u001b[0;36mDataset.compute\u001b[0;34m(self, **kwargs)\u001b[0m\n\u001b[1;32m   1009\u001b[0m \u001b[38;5;250m\u001b[39m\u001b[38;5;124;03m\"\"\"Manually trigger loading and/or computation of this dataset's data\u001b[39;00m\n\u001b[1;32m   1010\u001b[0m \u001b[38;5;124;03mfrom disk or a remote source into memory and return a new dataset.\u001b[39;00m\n\u001b[1;32m   1011\u001b[0m \u001b[38;5;124;03mUnlike load, the original dataset is left unaltered.\u001b[39;00m\n\u001b[0;32m   (...)\u001b[0m\n\u001b[1;32m   1025\u001b[0m \u001b[38;5;124;03mdask.compute\u001b[39;00m\n\u001b[1;32m   1026\u001b[0m \u001b[38;5;124;03m\"\"\"\u001b[39;00m\n\u001b[1;32m   1027\u001b[0m new \u001b[38;5;241m=\u001b[39m \u001b[38;5;28mself\u001b[39m\u001b[38;5;241m.\u001b[39mcopy(deep\u001b[38;5;241m=\u001b[39m\u001b[38;5;28;01mFalse\u001b[39;00m)\n\u001b[0;32m-> 1028\u001b[0m \u001b[38;5;28;01mreturn\u001b[39;00m \u001b[43mnew\u001b[49m\u001b[38;5;241;43m.\u001b[39;49m\u001b[43mload\u001b[49m\u001b[43m(\u001b[49m\u001b[38;5;241;43m*\u001b[39;49m\u001b[38;5;241;43m*\u001b[39;49m\u001b[43mkwargs\u001b[49m\u001b[43m)\u001b[49m\n",
      "File \u001b[0;32m/nopt/nrel/apps/software/conda2022/lib/python3.9/site-packages/xarray/core/dataset.py:862\u001b[0m, in \u001b[0;36mDataset.load\u001b[0;34m(self, **kwargs)\u001b[0m\n\u001b[1;32m    859\u001b[0m \u001b[38;5;28;01mimport\u001b[39;00m \u001b[38;5;21;01mdask\u001b[39;00m\u001b[38;5;21;01m.\u001b[39;00m\u001b[38;5;21;01marray\u001b[39;00m \u001b[38;5;28;01mas\u001b[39;00m \u001b[38;5;21;01mda\u001b[39;00m\n\u001b[1;32m    861\u001b[0m \u001b[38;5;66;03m# evaluate all the dask arrays simultaneously\u001b[39;00m\n\u001b[0;32m--> 862\u001b[0m evaluated_data \u001b[38;5;241m=\u001b[39m \u001b[43mda\u001b[49m\u001b[38;5;241;43m.\u001b[39;49m\u001b[43mcompute\u001b[49m\u001b[43m(\u001b[49m\u001b[38;5;241;43m*\u001b[39;49m\u001b[43mlazy_data\u001b[49m\u001b[38;5;241;43m.\u001b[39;49m\u001b[43mvalues\u001b[49m\u001b[43m(\u001b[49m\u001b[43m)\u001b[49m\u001b[43m,\u001b[49m\u001b[43m \u001b[49m\u001b[38;5;241;43m*\u001b[39;49m\u001b[38;5;241;43m*\u001b[39;49m\u001b[43mkwargs\u001b[49m\u001b[43m)\u001b[49m\n\u001b[1;32m    864\u001b[0m \u001b[38;5;28;01mfor\u001b[39;00m k, data \u001b[38;5;129;01min\u001b[39;00m \u001b[38;5;28mzip\u001b[39m(lazy_data, evaluated_data):\n\u001b[1;32m    865\u001b[0m     \u001b[38;5;28mself\u001b[39m\u001b[38;5;241m.\u001b[39mvariables[k]\u001b[38;5;241m.\u001b[39mdata \u001b[38;5;241m=\u001b[39m data\n",
      "File \u001b[0;32m~/.local/lib/python3.9/site-packages/dask/base.py:662\u001b[0m, in \u001b[0;36mcompute\u001b[0;34m(traverse, optimize_graph, scheduler, get, *args, **kwargs)\u001b[0m\n\u001b[1;32m    659\u001b[0m     postcomputes\u001b[38;5;241m.\u001b[39mappend(x\u001b[38;5;241m.\u001b[39m__dask_postcompute__())\n\u001b[1;32m    661\u001b[0m \u001b[38;5;28;01mwith\u001b[39;00m shorten_traceback():\n\u001b[0;32m--> 662\u001b[0m     results \u001b[38;5;241m=\u001b[39m \u001b[43mschedule\u001b[49m\u001b[43m(\u001b[49m\u001b[43mdsk\u001b[49m\u001b[43m,\u001b[49m\u001b[43m \u001b[49m\u001b[43mkeys\u001b[49m\u001b[43m,\u001b[49m\u001b[43m \u001b[49m\u001b[38;5;241;43m*\u001b[39;49m\u001b[38;5;241;43m*\u001b[39;49m\u001b[43mkwargs\u001b[49m\u001b[43m)\u001b[49m\n\u001b[1;32m    664\u001b[0m \u001b[38;5;28;01mreturn\u001b[39;00m repack([f(r, \u001b[38;5;241m*\u001b[39ma) \u001b[38;5;28;01mfor\u001b[39;00m r, (f, a) \u001b[38;5;129;01min\u001b[39;00m \u001b[38;5;28mzip\u001b[39m(results, postcomputes)])\n",
      "File \u001b[0;32m/nopt/nrel/apps/software/conda2022/lib/python3.9/site-packages/xarray/core/parallel.py:288\u001b[0m, in \u001b[0;36m_wrapper\u001b[0;34m()\u001b[0m\n\u001b[1;32m    278\u001b[0m \u001b[38;5;250m\u001b[39m\u001b[38;5;124;03m\"\"\"\u001b[39;00m\n\u001b[1;32m    279\u001b[0m \u001b[38;5;124;03mWrapper function that receives datasets in args; converts to dataarrays when necessary;\u001b[39;00m\n\u001b[1;32m    280\u001b[0m \u001b[38;5;124;03mpasses these to the user function `func` and checks returned objects for expected shapes/sizes/etc.\u001b[39;00m\n\u001b[1;32m    281\u001b[0m \u001b[38;5;124;03m\"\"\"\u001b[39;00m\n\u001b[1;32m    283\u001b[0m converted_args \u001b[38;5;241m=\u001b[39m [\n\u001b[1;32m    284\u001b[0m     dataset_to_dataarray(arg) \u001b[38;5;28;01mif\u001b[39;00m is_array \u001b[38;5;28;01melse\u001b[39;00m arg\n\u001b[1;32m    285\u001b[0m     \u001b[38;5;28;01mfor\u001b[39;00m is_array, arg \u001b[38;5;129;01min\u001b[39;00m \u001b[38;5;28mzip\u001b[39m(arg_is_array, args)\n\u001b[1;32m    286\u001b[0m ]\n\u001b[0;32m--> 288\u001b[0m result \u001b[38;5;241m=\u001b[39m func(\u001b[38;5;241m*\u001b[39mconverted_args, \u001b[38;5;241m*\u001b[39m\u001b[38;5;241m*\u001b[39mkwargs)\n\u001b[1;32m    290\u001b[0m \u001b[38;5;66;03m# check all dims are present\u001b[39;00m\n\u001b[1;32m    291\u001b[0m missing_dimensions \u001b[38;5;241m=\u001b[39m \u001b[38;5;28mset\u001b[39m(expected[\u001b[38;5;124m\"\u001b[39m\u001b[38;5;124mshapes\u001b[39m\u001b[38;5;124m\"\u001b[39m]) \u001b[38;5;241m-\u001b[39m \u001b[38;5;28mset\u001b[39m(result\u001b[38;5;241m.\u001b[39msizes)\n",
      "File \u001b[0;32m~/.local/lib/python3.9/site-packages/pvdeg/geospatial.py:133\u001b[0m, in \u001b[0;36mcalc_block\u001b[0;34m()\u001b[0m\n\u001b[1;32m    112\u001b[0m \u001b[38;5;28;01mdef\u001b[39;00m \u001b[38;5;21mcalc_block\u001b[39m(weather_ds_block, future_meta_df, func, func_kwargs):\n\u001b[1;32m    113\u001b[0m \u001b[38;5;250m    \u001b[39m\u001b[38;5;124;03m\"\"\"\u001b[39;00m\n\u001b[1;32m    114\u001b[0m \u001b[38;5;124;03m    Calculates a block of gids for a given function.\u001b[39;00m\n\u001b[1;32m    115\u001b[0m \n\u001b[0;32m   (...)\u001b[0m\n\u001b[1;32m    130\u001b[0m \u001b[38;5;124;03m        Dataset with results for a block of gids.\u001b[39;00m\n\u001b[1;32m    131\u001b[0m \u001b[38;5;124;03m    \"\"\"\u001b[39;00m\n\u001b[0;32m--> 133\u001b[0m     res \u001b[38;5;241m=\u001b[39m weather_ds_block\u001b[38;5;241m.\u001b[39mgroupby(\u001b[38;5;124m\"\u001b[39m\u001b[38;5;124mgid\u001b[39m\u001b[38;5;124m\"\u001b[39m, squeeze\u001b[38;5;241m=\u001b[39m\u001b[38;5;28;01mFalse\u001b[39;00m)\u001b[38;5;241m.\u001b[39mmap(\n\u001b[1;32m    134\u001b[0m         \u001b[38;5;28;01mlambda\u001b[39;00m ds_gid: calc_gid(\n\u001b[1;32m    135\u001b[0m             ds_gid\u001b[38;5;241m=\u001b[39mds_gid\u001b[38;5;241m.\u001b[39msqueeze(),\n\u001b[1;32m    136\u001b[0m             meta_gid\u001b[38;5;241m=\u001b[39mfuture_meta_df\u001b[38;5;241m.\u001b[39mloc[ds_gid[\u001b[38;5;124m\"\u001b[39m\u001b[38;5;124mgid\u001b[39m\u001b[38;5;124m\"\u001b[39m]\u001b[38;5;241m.\u001b[39mvalues[\u001b[38;5;241m0\u001b[39m]]\u001b[38;5;241m.\u001b[39mto_dict(),\n\u001b[1;32m    137\u001b[0m             func\u001b[38;5;241m=\u001b[39mfunc,\n\u001b[1;32m    138\u001b[0m             \u001b[38;5;241m*\u001b[39m\u001b[38;5;241m*\u001b[39mfunc_kwargs,\n\u001b[1;32m    139\u001b[0m         )\n\u001b[1;32m    140\u001b[0m     )\n\u001b[1;32m    141\u001b[0m     \u001b[38;5;28;01mreturn\u001b[39;00m res\n",
      "File \u001b[0;32m/nopt/nrel/apps/software/conda2022/lib/python3.9/site-packages/xarray/core/common.py:728\u001b[0m, in \u001b[0;36mgroupby\u001b[0;34m()\u001b[0m\n\u001b[1;32m    723\u001b[0m \u001b[38;5;28;01mif\u001b[39;00m \u001b[38;5;129;01mnot\u001b[39;00m \u001b[38;5;28misinstance\u001b[39m(squeeze, \u001b[38;5;28mbool\u001b[39m):\n\u001b[1;32m    724\u001b[0m     \u001b[38;5;28;01mraise\u001b[39;00m \u001b[38;5;167;01mTypeError\u001b[39;00m(\n\u001b[1;32m    725\u001b[0m         \u001b[38;5;124mf\u001b[39m\u001b[38;5;124m\"\u001b[39m\u001b[38;5;124m`squeeze` must be True or False, but \u001b[39m\u001b[38;5;132;01m{\u001b[39;00msqueeze\u001b[38;5;132;01m}\u001b[39;00m\u001b[38;5;124m was supplied\u001b[39m\u001b[38;5;124m\"\u001b[39m\n\u001b[1;32m    726\u001b[0m     )\n\u001b[0;32m--> 728\u001b[0m \u001b[38;5;28;01mreturn\u001b[39;00m \u001b[38;5;28mself\u001b[39m\u001b[38;5;241m.\u001b[39m_groupby_cls(\n\u001b[1;32m    729\u001b[0m     \u001b[38;5;28mself\u001b[39m, group, squeeze\u001b[38;5;241m=\u001b[39msqueeze, restore_coord_dims\u001b[38;5;241m=\u001b[39mrestore_coord_dims\n\u001b[1;32m    730\u001b[0m )\n",
      "File \u001b[0;32m/nopt/nrel/apps/software/conda2022/lib/python3.9/site-packages/xarray/core/groupby.py:354\u001b[0m, in \u001b[0;36m__init__\u001b[0;34m()\u001b[0m\n\u001b[1;32m    350\u001b[0m     group_indices \u001b[38;5;241m=\u001b[39m [\u001b[38;5;28mslice\u001b[39m(i, j) \u001b[38;5;28;01mfor\u001b[39;00m i, j \u001b[38;5;129;01min\u001b[39;00m \u001b[38;5;28mzip\u001b[39m(sbins[:\u001b[38;5;241m-\u001b[39m\u001b[38;5;241m1\u001b[39m], sbins[\u001b[38;5;241m1\u001b[39m:])] \u001b[38;5;241m+\u001b[39m [\n\u001b[1;32m    351\u001b[0m         \u001b[38;5;28mslice\u001b[39m(sbins[\u001b[38;5;241m-\u001b[39m\u001b[38;5;241m1\u001b[39m], \u001b[38;5;28;01mNone\u001b[39;00m)\n\u001b[1;32m    352\u001b[0m     ]\n\u001b[1;32m    353\u001b[0m     unique_coord \u001b[38;5;241m=\u001b[39m IndexVariable(group\u001b[38;5;241m.\u001b[39mname, first_items\u001b[38;5;241m.\u001b[39mindex)\n\u001b[0;32m--> 354\u001b[0m \u001b[38;5;28;01melif\u001b[39;00m group\u001b[38;5;241m.\u001b[39mdims \u001b[38;5;241m==\u001b[39m (group\u001b[38;5;241m.\u001b[39mname,) \u001b[38;5;129;01mand\u001b[39;00m _unique_and_monotonic(group):\n\u001b[1;32m    355\u001b[0m     \u001b[38;5;66;03m# no need to factorize\u001b[39;00m\n\u001b[1;32m    356\u001b[0m     group_indices \u001b[38;5;241m=\u001b[39m np\u001b[38;5;241m.\u001b[39marange(group\u001b[38;5;241m.\u001b[39msize)\n\u001b[1;32m    357\u001b[0m     \u001b[38;5;28;01mif\u001b[39;00m \u001b[38;5;129;01mnot\u001b[39;00m squeeze:\n\u001b[1;32m    358\u001b[0m         \u001b[38;5;66;03m# use slices to do views instead of fancy indexing\u001b[39;00m\n\u001b[1;32m    359\u001b[0m         \u001b[38;5;66;03m# equivalent to: group_indices = group_indices.reshape(-1, 1)\u001b[39;00m\n",
      "File \u001b[0;32m/nopt/nrel/apps/software/conda2022/lib/python3.9/site-packages/xarray/core/groupby.py:203\u001b[0m, in \u001b[0;36m_unique_and_monotonic\u001b[0;34m()\u001b[0m\n\u001b[1;32m    201\u001b[0m     \u001b[38;5;28;01mreturn\u001b[39;00m \u001b[38;5;28;01mTrue\u001b[39;00m\n\u001b[1;32m    202\u001b[0m index \u001b[38;5;241m=\u001b[39m safe_cast_to_index(group)\n\u001b[0;32m--> 203\u001b[0m \u001b[38;5;28;01mreturn\u001b[39;00m index\u001b[38;5;241m.\u001b[39mis_unique \u001b[38;5;129;01mand\u001b[39;00m index\u001b[38;5;241m.\u001b[39mis_monotonic\n",
      "\u001b[0;31mAttributeError\u001b[0m: 'Index' object has no attribute 'is_monotonic'"
     ]
    }
   ],
   "source": [
    "geo = {'func': pvdeg.standards.vertical_POA,\n",
    "       'weather_ds': weather_north,\n",
    "       'meta_df': meta_north,\n",
    "       'func_kwargs': jsonfolder}\n",
    "\n",
    "vertical_res = pvdeg.geospatial.analysis(**geo)"
   ]
  },
  {
   "cell_type": "code",
   "execution_count": null,
   "metadata": {},
   "outputs": [],
   "source": [
    "vertical_res['']"
   ]
  },
  {
   "cell_type": "code",
   "execution_count": null,
   "metadata": {},
   "outputs": [],
   "source": [
    "import cartopy.crs as ccrs\n",
    "import cartopy.io.shapereader as shpreader\n",
    "\n",
    "fig = plt.figure(figsize=(10, 5))\n",
    "ax = fig.add_axes([0, 0, 1, 1], projection=ccrs.PlateCarree(), frameon=True)\n",
    "ax.patch.set_visible(True)\n",
    "ax.set_extent([-180, 180, -85, 85], ccrs.PlateCarree())\n",
    "\n",
    "shapename = \"admin_0_countries\"\n",
    "states_shp = shpreader.natural_earth(\n",
    "    resolution=\"110m\", category=\"cultural\", name=shapename\n",
    ")\n",
    "\n",
    "ax.add_geometries(\n",
    "    shpreader.Reader(states_shp).geometries(),\n",
    "    ccrs.PlateCarree(),\n",
    "    facecolor=\"none\",\n",
    "    edgecolor=\"gray\",\n",
    "    linewidth=0.5,\n",
    ")\n",
    "\n",
    "cmap = \"Spectral_r\"\n",
    "size = 0.75\n",
    "vertical_res.plot.scatter(x='longitude', y='latitude', hue='lcoe_nom', cmap=cmap, s=size, linewidths=0, add_colorbar=False, ax=ax) # vmin=0, vmax=14,\n",
    "\n",
    "plt.xlim([-180,180])\n",
    "plt.ylim([-90,90])"
   ]
  },
  {
   "cell_type": "code",
   "execution_count": null,
   "metadata": {},
   "outputs": [],
   "source": [
    "import cartopy.crs as ccrs\n",
    "import cartopy.io.shapereader as shpreader\n",
    "\n",
    "\n",
    "data_projection=ccrs.PlateCarree()\n",
    "map_projection=ccrs.Orthographic(0, 90)\n",
    "\n",
    "fig = plt.figure(figsize=(10, 5))\n",
    "ax = fig.add_axes([0, 0, 1, 1], projection=map_projection, frameon=True)\n",
    "ax.patch.set_visible(True)\n",
    "\n",
    "shapename = \"admin_0_countries\"\n",
    "states_shp = shpreader.natural_earth(\n",
    "    resolution=\"110m\", category=\"cultural\", name=shapename\n",
    ")\n",
    "\n",
    "ax.add_geometries(\n",
    "    shpreader.Reader(states_shp).geometries(),\n",
    "    data_projection,\n",
    "    facecolor=\"none\",\n",
    "    edgecolor=\"gray\",\n",
    "    linewidth=0.5,\n",
    ")\n",
    "\n",
    "cmap = \"Spectral_r\"\n",
    "size = 0.75\n",
    "vertical_res.plot.scatter(x='longitude', y='latitude', hue='x', cmap=cmap, s=size, linewidths=0, vmin=0, vmax=14, add_colorbar=False, ax=ax, transform=data_projection)\n",
    "\n"
   ]
  }
 ],
 "metadata": {
  "kernelspec": {
   "display_name": "pvdeg",
   "language": "python",
   "name": "pvdeg"
  },
  "language_info": {
   "codemirror_mode": {
    "name": "ipython",
    "version": 3
   },
   "file_extension": ".py",
   "mimetype": "text/x-python",
   "name": "python",
   "nbconvert_exporter": "python",
   "pygments_lexer": "ipython3",
   "version": "3.9.12"
  }
 },
 "nbformat": 4,
 "nbformat_minor": 4
}
